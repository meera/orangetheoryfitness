{
  "nbformat": 4,
  "nbformat_minor": 0,
  "metadata": {
    "colab": {
      "provenance": [],
      "authorship_tag": "ABX9TyONX8z2mK/aMBn5hgQs7OYI",
      "include_colab_link": true
    },
    "kernelspec": {
      "name": "python3",
      "display_name": "Python 3"
    },
    "language_info": {
      "name": "python"
    }
  },
  "cells": [
    {
      "cell_type": "markdown",
      "metadata": {
        "id": "view-in-github",
        "colab_type": "text"
      },
      "source": [
        "<a href=\"https://colab.research.google.com/github/meera/orangetheoryfitness/blob/main/OrangeTheoryFitness_Screenshot_To_JSON.ipynb\" target=\"_parent\"><img src=\"https://colab.research.google.com/assets/colab-badge.svg\" alt=\"Open In Colab\"/></a>"
      ]
    },
    {
      "cell_type": "code",
      "source": [
        "!pip install --upgrade openai -q"
      ],
      "metadata": {
        "colab": {
          "base_uri": "https://localhost:8080/"
        },
        "id": "3L3Oc9fNE_iv",
        "outputId": "a1fc79d5-bd3c-4ed3-e47f-45727a8e2d55"
      },
      "execution_count": null,
      "outputs": [
        {
          "output_type": "stream",
          "name": "stdout",
          "text": [
            "\u001b[2K     \u001b[90m━━━━━━━━━━━━━━━━━━━━━━━━━━━━━━━━━━━━━━━━\u001b[0m \u001b[32m325.5/325.5 kB\u001b[0m \u001b[31m3.0 MB/s\u001b[0m eta \u001b[36m0:00:00\u001b[0m\n",
            "\u001b[2K     \u001b[90m━━━━━━━━━━━━━━━━━━━━━━━━━━━━━━━━━━━━━━━━\u001b[0m \u001b[32m75.6/75.6 kB\u001b[0m \u001b[31m3.4 MB/s\u001b[0m eta \u001b[36m0:00:00\u001b[0m\n",
            "\u001b[2K     \u001b[90m━━━━━━━━━━━━━━━━━━━━━━━━━━━━━━━━━━━━━━━━\u001b[0m \u001b[32m77.9/77.9 kB\u001b[0m \u001b[31m2.8 MB/s\u001b[0m eta \u001b[36m0:00:00\u001b[0m\n",
            "\u001b[2K     \u001b[90m━━━━━━━━━━━━━━━━━━━━━━━━━━━━━━━━━━━━━━━━\u001b[0m \u001b[32m58.3/58.3 kB\u001b[0m \u001b[31m2.6 MB/s\u001b[0m eta \u001b[36m0:00:00\u001b[0m\n",
            "\u001b[?25h"
          ]
        }
      ]
    },
    {
      "cell_type": "code",
      "execution_count": null,
      "metadata": {
        "colab": {
          "base_uri": "https://localhost:8080/"
        },
        "id": "QB66KSGzD1l-",
        "outputId": "e98157b4-9eda-4dcb-bd88-1005276979a7"
      },
      "outputs": [
        {
          "output_type": "stream",
          "name": "stdout",
          "text": [
            "Mounted at /content/drive\n"
          ]
        }
      ],
      "source": [
        "from google.colab import userdata\n",
        "userdata.get('OPENAI_API_KEY')\n",
        "\n",
        "from google.colab import drive\n",
        "drive.mount('/content/drive')\n"
      ]
    },
    {
      "cell_type": "code",
      "source": [
        "import base64\n",
        "import requests\n",
        "\n",
        "# OpenAI API Key\n",
        "api_key = userdata.get('OPENAI_API_KEY')\n",
        "\n",
        "# Function to encode the image\n",
        "def encode_image(image_path):\n",
        "  with open(image_path, \"rb\") as image_file:\n",
        "    return base64.b64encode(image_file.read()).decode('utf-8')\n",
        "\n",
        "# Path to your image\n",
        "\n",
        "\n",
        "\n",
        "\n",
        "prompt = '''\n",
        "Scan the given two images and extract the fields in json format:\n",
        "total calories is indicated by flame icon at top right corner. Splat points is right next to calories.\n",
        "Name of the coach appears after location.\n",
        "exercise type is either 2G or 3G .\n",
        "tread mill totaltime: Time in  MM:SS format\n",
        "treadmill totaltime_in_seconds:  Treadmill total time in seconds.\n",
        "treadmill distance: is in miles\n",
        "treadmille_distance_in_miles: floating number representing miles\n",
        "500m_split_average_in_seconds: 500m split average in seconds\n",
        "500m_split_max_in_seconds: 500m split max in seconds\n",
        "rower totaltime is in MM:SS format, convert output to seconds.\n",
        "avg_incline_number: avg incline without % and in number.\n",
        "max_incline_number: max incline without % and in number.\n",
        "avg_speed_number: avg speed in miles per hour.\n",
        "max_speed_number: max speed in miles per hour.\n",
        "rower total time is in MM:SS format\n",
        "rower total time in seconds is total rower time in seconds.\n",
        "distance\": 176,\n",
        "Example json output:\n",
        "{\n",
        "  \"date\": \"Tuesday, May 21\",\n",
        "  \"full_date\": \"2024-05-21\",\n",
        "  \"location\": \"Cupertino, CA\",\n",
        "  \"name of the coach\": \"Carol\",\n",
        "  \"exercise type\": \"2G\",\n",
        "  \"average heart rate\": 143,\n",
        "  \"total calories\": 848,\n",
        "  \"splat points\": 27\n",
        "  \"peak HR\": 203,\n",
        "  \"miles\": 0.5,\n",
        "  \"steps\": 3665,\n",
        "  \"barchart\" : {\n",
        "    \"grey\": 16,\n",
        "    \"blue\": 13,\n",
        "    \"green\", 47,\n",
        "    \"orange\": 2,\n",
        "    \"red\": 8\n",
        "  }\n",
        "  \"treadmill\" : {\n",
        "    \"totaltime\": \"16:3\",\n",
        "    \"totaltime_in_seconds\": 970,\n",
        "    \"distance\": \"0.5 mi\",\n",
        "    \"distance_in_miles: 0.5,\n",
        "    \"avg incline\": \"0.0 %\",\n",
        "    \"avg_include_number\": 0.0,\n",
        "    \"max incline\": \"0.0 %\",\n",
        "    \"max_incline_number\": 0.0,\n",
        "    \"elevation\": \"0 ft\",\n",
        "    \"elevation_number\": 0\n",
        "    \"avg speed\": \"4.4 mph\",\n",
        "    \"avg_speed_number\": 4.4\n",
        "    \"max speed\": \"8 mph\",\n",
        "    \"max_speed_number\": 8,\n",
        "    \"avg pace\": \"13:38 mi\",\n",
        "    \"avg_pace_number\": 13.38,\n",
        "    \"fastest pace\": \"07:30\"\n",
        "    \"fastest_pace_number\": 7.30\n",
        "  },\n",
        "  \"rower\":\n",
        "    {\n",
        "    \"totaltime\": \"11:24\",\n",
        "    \"totaltime_in_seconds\": 684,\n",
        "    \"distance\": 176,\n",
        "    \"avg wattage\": 86.4,\n",
        "    \"max wattage\": 184.0,\n",
        "    \"500m split average\": \"02:36 min/500m\",\n",
        "    \"500m_split_average_in_seconds\": 156,\n",
        "    \"500m split max\": \"01:53\",\n",
        "    \"500m_split_max_in_seconds\": 113,\n",
        "    \"avg speed\": \"7.46 mph\",\n",
        "    \"avg_speed_number\": 7.46,\n",
        "    \"max speed\": \"9.88 mph\",\n",
        "    \"max_speed_number\" : 9.88\n",
        "    \"avg stroke rate\": 23.1,\n",
        "    \"avg_stroke_rate_number\": 23.1,\n",
        "    \"max stroke rate\": 30.0\n",
        "    \"max_stroke_rate_number\": 30.0\n",
        "  }\n",
        "}\n",
        "\n",
        "\n",
        "The JSON object:\n",
        "'''\n",
        "\n"
      ],
      "metadata": {
        "id": "1Uv3UwTuFU76"
      },
      "execution_count": null,
      "outputs": []
    },
    {
      "cell_type": "code",
      "source": [
        "from openai import OpenAI\n",
        "client = OpenAI(api_key=api_key)\n",
        "\n",
        "\n",
        "def encode_image(image_path):\n",
        "    with open(image_path, \"rb\") as image_file:\n",
        "        return base64.b64encode(image_file.read()).decode('utf-8')\n",
        "\n",
        "def process_images(trade_image_path, rower_image_path, prompt=prompt):\n",
        "    tradmill_base64_image = encode_image(trade_image_path)\n",
        "    rower_base64_image = encode_image(rower_image_path)\n",
        "    try:\n",
        "\n",
        "      response = client.chat.completions.create(\n",
        "          model= \"gpt-4o\",\n",
        "          response_format= { \"type\": \"json_object\" },\n",
        "          messages= [\n",
        "              {\n",
        "                  \"role\": \"user\",\n",
        "                  \"content\": [\n",
        "                      {\n",
        "                          \"type\": \"text\",\n",
        "                          \"text\": prompt\n",
        "                      },\n",
        "                      {\n",
        "                          \"type\": \"image_url\",\n",
        "                          \"image_url\": {\n",
        "                              \"url\": f\"data:image/jpeg;base64,{tradmill_base64_image}\"\n",
        "                          }\n",
        "                      },\n",
        "                      {\n",
        "                          \"type\": \"image_url\",\n",
        "                          \"image_url\": {\n",
        "                              \"url\": f\"data:image/jpeg;base64,{rower_base64_image}\"\n",
        "                          }\n",
        "                      }\n",
        "                  ]\n",
        "              }\n",
        "          ]\n",
        "      )\n",
        "      return response.choices[0].message.content\n",
        "    except Exception as e:\n",
        "      print(e)\n",
        "      return None\n",
        "\n",
        "\n",
        "#treadmill_image_path = os.path.join('/content/drive', 'MyDrive', 'Orangefitness_screenshots', \"trade_1.png\")\n",
        "# treadmill_image_path = \"trade_1.png\"\n",
        "#rower_image_path = os.path.join('/content/drive', 'MyDrive', 'Orangefitness_screenshots',  \"rower_1.png\")\n",
        "\n",
        "\n",
        "# Getting the base64 string\n",
        "\n",
        "#response = process_images(treadmill_image_path, rower_image_path, prompt)\n",
        "\n",
        "#didn't work\n",
        "51, 65, 118\n"
      ],
      "metadata": {
        "id": "4p6AoDuTkgPU",
        "colab": {
          "base_uri": "https://localhost:8080/"
        },
        "outputId": "90d4c15d-96c4-4a96-e15d-59658616f8ee"
      },
      "execution_count": null,
      "outputs": [
        {
          "output_type": "execute_result",
          "data": {
            "text/plain": [
              "(51, 65, 118)"
            ]
          },
          "metadata": {},
          "execution_count": 11
        }
      ]
    },
    {
      "cell_type": "code",
      "source": [
        "import os\n",
        "\n",
        "# The screenshots are stored in individual user directory\n",
        "\n",
        "user = \"Meera\"\n",
        "# user = \"Shailesh\"\n",
        "\n",
        "def check_file_present(i):\n",
        "  treadmill_image_path = os.path.join('/content/drive', 'MyDrive',  'Orangefitness_screenshots', user ,f\"treadmill_{i:03d}.png\")\n",
        "  rower_image_path = os.path.join('/content/drive', 'MyDrive',  'Orangefitness_screenshots',  user, f\"rower_{i:03d}.png\")\n",
        "\n",
        "  treadmill_exists = os.path.isfile(treadmill_image_path)\n",
        "  rower_exists = os.path.isfile(rower_image_path)\n",
        "\n",
        "  treadmill_check = \"✔️\" if treadmill_exists else \"❌\"\n",
        "  rower_check = \"✔️\" if rower_exists else \"❌\"\n",
        "\n",
        "  print(f\"Index: {i} - Treadmill: {treadmill_check}, Rower: {rower_check}\")\n",
        "\n",
        "\n",
        "\n",
        "\n",
        "def process_file(i):\n",
        "  treadmill_image_path = os.path.join('/content/drive', 'MyDrive',  'Orangefitness_screenshots',  user ,f\"treadmill_{i:03d}.png\")\n",
        "  rower_image_path = os.path.join('/content/drive', 'MyDrive',  'Orangefitness_screenshots', user , f\"rower_{i:03d}.png\")\n",
        "\n",
        "  treadmill_exists = os.path.isfile(treadmill_image_path)\n",
        "  rower_exists = os.path.isfile(rower_image_path)\n",
        "\n",
        "  treadmill_check = \"✔️\" if treadmill_exists else \"❌\"\n",
        "  rower_check = \"✔️\" if rower_exists else \"❌\"\n",
        "\n",
        "  print(f\"Processing: {i} - Treadmill: {treadmill_check}, Rower: {rower_check}\")\n",
        "  response = process_images(treadmill_image_path, rower_image_path, prompt)\n",
        "  return response\n",
        "\n",
        "\n",
        "\n",
        "\n",
        "# for i in range(0, 150):\n",
        "#   check_meera_file_present(i)\n",
        "\n",
        "# Max Meera : 137\n",
        "\n",
        "for i in range(0, 10):\n",
        "    print(f\"Processing index {i}\")\n",
        "    output_path = os.path.join('/content/drive', 'MyDrive',  'Orangefitness_screenshots',   f\"{user}_Output/output_{i:03d}.txt\")\n",
        "    if not os.path.exists(output_path):\n",
        "      response = process_file(i)\n",
        "      with open(output_path, 'w') as f:\n",
        "        f.write(response)\n",
        "      print(f\"File saved: {output_path}\")\n",
        "    else:\n",
        "      print(f\"File already exists: {output_path}\")\n",
        "\n",
        "# 136\n",
        "# for i in range(118, 119):\n",
        "#     print(f\"Processing index {i}\")\n",
        "#     output_path = os.path.join('/content/drive', 'MyDrive',  'Orangefitness_screenshots', \"Shailesh_Output\",  f\"output_{i:03d}.txt\")\n",
        "#     if not os.path.exists(output_path):\n",
        "#       response = process_file(i)\n",
        "#       with open(output_path, 'w') as f:\n",
        "#         f.write(response)\n",
        "#       print(f\"File saved: {output_path}\")\n",
        "#     else:\n",
        "#       print(f\"File already exists: {output_path}\")\n"
      ],
      "metadata": {
        "colab": {
          "base_uri": "https://localhost:8080/"
        },
        "id": "IdqfgpCLz9iy",
        "outputId": "20049fb3-3439-4501-fee5-a1ad3b87f4ba"
      },
      "execution_count": null,
      "outputs": [
        {
          "output_type": "stream",
          "name": "stdout",
          "text": [
            "Processing index 0\n",
            "File already exists: /content/drive/MyDrive/Orangefitness_screenshots/Meera_Output/output_000.txt\n",
            "Processing index 1\n",
            "File already exists: /content/drive/MyDrive/Orangefitness_screenshots/Meera_Output/output_001.txt\n",
            "Processing index 2\n",
            "File already exists: /content/drive/MyDrive/Orangefitness_screenshots/Meera_Output/output_002.txt\n",
            "Processing index 3\n",
            "Processing: 3 - Treadmill: ✔️, Rower: ✔️\n",
            "File saved: /content/drive/MyDrive/Orangefitness_screenshots/Meera_Output/output_003.txt\n",
            "Processing index 4\n",
            "Processing: 4 - Treadmill: ✔️, Rower: ✔️\n",
            "File saved: /content/drive/MyDrive/Orangefitness_screenshots/Meera_Output/output_004.txt\n",
            "Processing index 5\n",
            "Processing: 5 - Treadmill: ✔️, Rower: ✔️\n",
            "File saved: /content/drive/MyDrive/Orangefitness_screenshots/Meera_Output/output_005.txt\n",
            "Processing index 6\n",
            "Processing: 6 - Treadmill: ✔️, Rower: ✔️\n",
            "File saved: /content/drive/MyDrive/Orangefitness_screenshots/Meera_Output/output_006.txt\n",
            "Processing index 7\n",
            "Processing: 7 - Treadmill: ✔️, Rower: ✔️\n",
            "File saved: /content/drive/MyDrive/Orangefitness_screenshots/Meera_Output/output_007.txt\n",
            "Processing index 8\n",
            "Processing: 8 - Treadmill: ✔️, Rower: ✔️\n",
            "File saved: /content/drive/MyDrive/Orangefitness_screenshots/Meera_Output/output_008.txt\n",
            "Processing index 9\n",
            "Processing: 9 - Treadmill: ✔️, Rower: ✔️\n",
            "File saved: /content/drive/MyDrive/Orangefitness_screenshots/Meera_Output/output_009.txt\n"
          ]
        }
      ]
    },
    {
      "cell_type": "markdown",
      "source": [],
      "metadata": {
        "id": "5xJYeSON6a6_"
      }
    },
    {
      "cell_type": "code",
      "source": [],
      "metadata": {
        "id": "CmEZuFpP2A0x"
      },
      "execution_count": null,
      "outputs": []
    }
  ]
}